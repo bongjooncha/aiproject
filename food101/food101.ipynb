{
 "cells": [
  {
   "cell_type": "code",
   "execution_count": 5,
   "metadata": {},
   "outputs": [
    {
     "name": "stderr",
     "output_type": "stream",
     "text": [
      "c:\\Users\\OWNER\\Desktop\\coding_project\\aiproject\\venv\\Lib\\site-packages\\tqdm\\auto.py:21: TqdmWarning: IProgress not found. Please update jupyter and ipywidgets. See https://ipywidgets.readthedocs.io/en/stable/user_install.html\n",
      "  from .autonotebook import tqdm as notebook_tqdm\n",
      "config.json: 100%|██████████| 5.63k/5.63k [00:00<?, ?B/s]\n",
      "model.safetensors: 100%|██████████| 344M/344M [00:30<00:00, 11.4MB/s] \n",
      "preprocessor_config.json: 100%|██████████| 325/325 [00:00<?, ?B/s] \n"
     ]
    }
   ],
   "source": [
    "from transformers import pipeline\n",
    "\n",
    "sentiment_classification = pipeline(\"image-classification\", \"hiddenbebb/my_awesome_food_model\")"
   ]
  },
  {
   "cell_type": "code",
   "execution_count": 6,
   "metadata": {},
   "outputs": [
    {
     "data": {
      "text/plain": [
       "[{'score': 0.5691424012184143, 'label': 'beignets'},\n",
       " {'score': 0.014838982373476028, 'label': 'bruschetta'},\n",
       " {'score': 0.014491332694888115, 'label': 'prime_rib'},\n",
       " {'score': 0.012388895265758038, 'label': 'pork_chop'},\n",
       " {'score': 0.01112471055239439, 'label': 'ramen'}]"
      ]
     },
     "execution_count": 6,
     "metadata": {},
     "output_type": "execute_result"
    }
   ],
   "source": [
    "food = 'food.png'\n",
    "\n",
    "sentiment_classification(food)"
   ]
  }
 ],
 "metadata": {
  "kernelspec": {
   "display_name": "venv",
   "language": "python",
   "name": "python3"
  },
  "language_info": {
   "codemirror_mode": {
    "name": "ipython",
    "version": 3
   },
   "file_extension": ".py",
   "mimetype": "text/x-python",
   "name": "python",
   "nbconvert_exporter": "python",
   "pygments_lexer": "ipython3",
   "version": "3.11.4"
  }
 },
 "nbformat": 4,
 "nbformat_minor": 2
}
