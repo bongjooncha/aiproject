{
 "cells": [
  {
   "cell_type": "code",
   "execution_count": 7,
   "metadata": {},
   "outputs": [],
   "source": [
    "from transformers import pipeline\n",
    "\n",
    "sentiment_classification = pipeline(\"image-classification\", \"hiddenbebb/my_awesome_food_model\")"
   ]
  },
  {
   "cell_type": "code",
   "execution_count": 8,
   "metadata": {},
   "outputs": [
    {
     "data": {
      "text/plain": [
       "[{'score': 0.5691424012184143, 'label': 'beignets'},\n",
       " {'score': 0.014838982373476028, 'label': 'bruschetta'},\n",
       " {'score': 0.014491332694888115, 'label': 'prime_rib'},\n",
       " {'score': 0.012388895265758038, 'label': 'pork_chop'},\n",
       " {'score': 0.01112471055239439, 'label': 'ramen'}]"
      ]
     },
     "execution_count": 8,
     "metadata": {},
     "output_type": "execute_result"
    }
   ],
   "source": [
    "food = 'food.png'\n",
    "\n",
    "sentiment_classification(food)"
   ]
  }
 ],
 "metadata": {
  "kernelspec": {
   "display_name": "venv",
   "language": "python",
   "name": "python3"
  },
  "language_info": {
   "codemirror_mode": {
    "name": "ipython",
    "version": 3
   },
   "file_extension": ".py",
   "mimetype": "text/x-python",
   "name": "python",
   "nbconvert_exporter": "python",
   "pygments_lexer": "ipython3",
   "version": "3.11.4"
  }
 },
 "nbformat": 4,
 "nbformat_minor": 2
}
