{
 "cells": [
  {
   "cell_type": "code",
   "execution_count": 2,
   "metadata": {},
   "outputs": [
    {
     "name": "stdout",
     "output_type": "stream",
     "text": [
      "\n",
      "image 1/1 c:\\Users\\OWNER\\Desktop\\coding_project\\aiproject\\aquarium\\aqa_data\\test.jpg: 416x320 1 penguin, 18.0ms\n",
      "Speed: 2.0ms preprocess, 18.0ms inference, 5.0ms postprocess per image at shape (1, 3, 416, 320)\n",
      "Results saved to \u001b[1mc:\\Users\\OWNER\\Desktop\\coding_project\\aiproject\\aquarium\\runs\\detect\\predict2\u001b[0m\n",
      "1 label saved to c:\\Users\\OWNER\\Desktop\\coding_project\\aiproject\\aquarium\\runs\\detect\\predict2\\labels\n"
     ]
    }
   ],
   "source": [
    "from ultralytics import YOLO\n",
    "\n",
    "model = YOLO('./runs/detect/train2/weights/best.pt')\n",
    "\n",
    "results=model('./aqa_data/test.jpg', save_txt= True, save=True)"
   ]
  }
 ],
 "metadata": {
  "kernelspec": {
   "display_name": "venv",
   "language": "python",
   "name": "python3"
  },
  "language_info": {
   "codemirror_mode": {
    "name": "ipython",
    "version": 3
   },
   "file_extension": ".py",
   "mimetype": "text/x-python",
   "name": "python",
   "nbconvert_exporter": "python",
   "pygments_lexer": "ipython3",
   "version": "3.11.4"
  }
 },
 "nbformat": 4,
 "nbformat_minor": 2
}
